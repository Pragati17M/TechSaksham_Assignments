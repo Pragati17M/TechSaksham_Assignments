{
  "nbformat": 4,
  "nbformat_minor": 0,
  "metadata": {
    "colab": {
      "provenance": []
    },
    "kernelspec": {
      "name": "python3",
      "display_name": "Python 3"
    },
    "language_info": {
      "name": "python"
    }
  },
  "cells": [
    {
      "cell_type": "code",
      "execution_count": 4,
      "metadata": {
        "colab": {
          "base_uri": "https://localhost:8080/"
        },
        "id": "uZniWs4NbytN",
        "outputId": "c7e2e143-d001-432c-e78b-e23a68462544"
      },
      "outputs": [
        {
          "name": "stdout",
          "output_type": "stream",
          "text": [
            "\n",
            "Menu:\n",
            "1. Union of sets\n",
            "2. Intersection of sets\n",
            "3. Difference of sets\n",
            "4. Symmetric Difference of sets\n",
            "5. Exit\n",
            "Enter your choice (1-6): 1\n",
            "Union of set1 and set2: {1, 2, 3, 4, 5, 6, 7, 8}\n",
            "\n",
            "Menu:\n",
            "1. Union of sets\n",
            "2. Intersection of sets\n",
            "3. Difference of sets\n",
            "4. Symmetric Difference of sets\n",
            "5. Exit\n",
            "Enter your choice (1-6): 2\n",
            "Intersection of set1 and set2: {4, 5}\n",
            "\n",
            "Menu:\n",
            "1. Union of sets\n",
            "2. Intersection of sets\n",
            "3. Difference of sets\n",
            "4. Symmetric Difference of sets\n",
            "5. Exit\n",
            "Enter your choice (1-6): 3\n",
            "Difference of set1 and set2: {1, 2, 3}\n",
            "\n",
            "Menu:\n",
            "1. Union of sets\n",
            "2. Intersection of sets\n",
            "3. Difference of sets\n",
            "4. Symmetric Difference of sets\n",
            "5. Exit\n",
            "Enter your choice (1-6): 4\n",
            "Symmetric Difference of set1 and set2: {1, 2, 3, 6, 7, 8}\n",
            "\n",
            "Menu:\n",
            "1. Union of sets\n",
            "2. Intersection of sets\n",
            "3. Difference of sets\n",
            "4. Symmetric Difference of sets\n",
            "5. Exit\n",
            "Enter your choice (1-6): 5\n"
          ]
        }
      ],
      "source": [
        "set1 = {1, 2, 3, 4,5}\n",
        "set2 = {4,5, 6, 7, 8}\n",
        "\n",
        "while True:\n",
        "    print(\"\\nMenu:\")\n",
        "    print(\"1. Union of sets\")\n",
        "    print(\"2. Intersection of sets\")\n",
        "    print(\"3. Difference of sets\")\n",
        "    print(\"4. Symmetric Difference of sets\")\n",
        "    print(\"5. Exit\")\n",
        "\n",
        "    choice = int(input(\"Enter your choice (1-6): \"))\n",
        "\n",
        "    if choice == 5:\n",
        "        break\n",
        "\n",
        "    if choice == 1:\n",
        "        result = set1.union(set2)\n",
        "        print(f\"Union of set1 and set2: {result}\")\n",
        "    elif choice == 2:\n",
        "        result = set1.intersection(set2)\n",
        "        print(f\"Intersection of set1 and set2: {result}\")\n",
        "    elif choice == 3:\n",
        "        result = set1.difference(set2)\n",
        "        print(f\"Difference of set1 and set2: {result}\")\n",
        "    elif choice == 4:\n",
        "        result = set1.symmetric_difference(set2)\n",
        "        print(f\"Symmetric Difference of set1 and set2: {result}\")\n",
        "\n",
        "    else:\n",
        "        print(\"Invalid choice. Please choose a valid operation.\")\n"
      ]
    }
  ]
}