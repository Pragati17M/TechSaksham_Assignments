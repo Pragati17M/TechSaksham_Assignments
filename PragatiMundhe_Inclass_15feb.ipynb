{
  "nbformat": 4,
  "nbformat_minor": 0,
  "metadata": {
    "colab": {
      "provenance": []
    },
    "kernelspec": {
      "name": "python3",
      "display_name": "Python 3"
    },
    "language_info": {
      "name": "python"
    }
  },
  "cells": [
    {
      "cell_type": "code",
      "execution_count": 1,
      "metadata": {
        "colab": {
          "base_uri": "https://localhost:8080/"
        },
        "id": "0UVArdSjlezY",
        "outputId": "0816b459-c406-4a0c-fd8e-a179f5ef7c2b"
      },
      "outputs": [
        {
          "output_type": "stream",
          "name": "stdout",
          "text": [
            "(10, 'hello', 3.14)\n"
          ]
        }
      ],
      "source": [
        "my_tuple = (10, \"hello\", 3.14)\n",
        "print(my_tuple)\n"
      ]
    },
    {
      "cell_type": "code",
      "source": [
        "tuple1 = (1, 2, 3)\n",
        "tuple2 = (4, 5, 6)\n",
        "\n",
        "concatenated_tuple = tuple1 + tuple2\n",
        "print(concatenated_tuple)\n"
      ],
      "metadata": {
        "colab": {
          "base_uri": "https://localhost:8080/"
        },
        "id": "bacKVgYcl5NZ",
        "outputId": "c5f2701e-7781-4480-ba6d-468f840911ca"
      },
      "execution_count": 2,
      "outputs": [
        {
          "output_type": "stream",
          "name": "stdout",
          "text": [
            "(1, 2, 3, 4, 5, 6)\n"
          ]
        }
      ]
    },
    {
      "cell_type": "code",
      "source": [
        "# Create a phone book\n",
        "phone_book = {\n",
        "    \"Pragati\": \"1236828930\",\n",
        "    \"Ashlesha\": \"9877497893730\",\n",
        "    \"Pranali\": \"55578939467\"\n",
        "}\n",
        "\n",
        "# Add a new contact\n",
        "new_contact_name = \"Divya\"\n",
        "new_contact_number = \"77768749999\"\n",
        "phone_book[new_contact_name] = new_contact_number\n",
        "\n",
        "# Retrieve the phone number\n",
        "find = \"Pragati\"\n",
        "if find in phone_book:\n",
        "    phone_number = phone_book[find]\n",
        "    print(f\"The phone number of {find} is {phone_number}\")\n",
        "else:\n",
        "    print(f\"{find} not found in the phone book.\")\n",
        "\n",
        "# updated phone book\n",
        "print(\"Updated Phone Book:\")\n",
        "print(phone_book)\n"
      ],
      "metadata": {
        "colab": {
          "base_uri": "https://localhost:8080/"
        },
        "id": "6WVyEM6dmSWn",
        "outputId": "305f7e2b-7de4-478a-cdb0-c500d91b6b3f"
      },
      "execution_count": 4,
      "outputs": [
        {
          "output_type": "stream",
          "name": "stdout",
          "text": [
            "The phone number of Pragati is 1236828930\n",
            "Updated Phone Book:\n",
            "{'Pragati': '1236828930', 'Ashlesha': '9877497893730', 'Pranali': '55578939467', 'Divya': '77768749999'}\n"
          ]
        }
      ]
    },
    {
      "cell_type": "code",
      "source": [
        "# Dictionary of student names and grades\n",
        "student_grades = {\n",
        "    \"Aaliya\": 90,\n",
        "    \"Riya\": 85,\n",
        "    \"Siya\": 92,\n",
        "    \"Janhavi\": 88,\n",
        "    \"Yami\": 95\n",
        "}\n",
        "\n",
        "# average grade\n",
        "average_grade = sum(student_grades.values()) / len(student_grades)\n",
        "print(f\"Average Grade: {average_grade:.2f}\")\n",
        "\n",
        "#student with the highest grade\n",
        "highest_grade_student = max(student_grades, key=student_grades.get)\n",
        "highest_grade = student_grades[highest_grade_student]\n",
        "print(f\"Student with the Highest Grade: {highest_grade_student} with a grade of {highest_grade}\")\n"
      ],
      "metadata": {
        "colab": {
          "base_uri": "https://localhost:8080/"
        },
        "id": "HAwoZ068nA_a",
        "outputId": "74bfb437-af39-439d-e5df-c7c05d86281a"
      },
      "execution_count": 6,
      "outputs": [
        {
          "output_type": "stream",
          "name": "stdout",
          "text": [
            "Average Grade: 90.00\n",
            "Student with the Highest Grade: Yami with a grade of 95\n"
          ]
        }
      ]
    },
    {
      "cell_type": "code",
      "source": [
        "# Sets representing math and physics students\n",
        "math_students = {\"Aman\", \"Mahi\", \"Yash\", \"Ravi\"}\n",
        "phy_students = {\"Ravi\", \"Prerna\", \"Akash\", \"Karan\"}\n",
        "\n",
        "# Determine the intersection\n",
        "intersection_students = math_students.intersection(phy_students)\n",
        "print(f\"Students who study both math and physics: {intersection_students}\")\n",
        "\n",
        "# Find the union of\n",
        "union_students = math_students.union(phy_students)\n",
        "print(f\"All unique students in math and physics: {union_students}\")\n"
      ],
      "metadata": {
        "colab": {
          "base_uri": "https://localhost:8080/"
        },
        "id": "-LeQ33aKnrbc",
        "outputId": "a5ee13ea-15ab-454e-bc36-4cff331974f9"
      },
      "execution_count": 9,
      "outputs": [
        {
          "output_type": "stream",
          "name": "stdout",
          "text": [
            "Students who study both math and physics: {'Ravi'}\n",
            "All unique students in math and physics: {'Akash', 'Prerna', 'Karan', 'Aman', 'Ravi', 'Yash', 'Mahi'}\n"
          ]
        }
      ]
    },
    {
      "cell_type": "code",
      "source": [
        "# Sets representing math and physics students\n",
        "math_students = {\"Aman\", \"Mahi\", \"Yash\", \"Ravi\"}\n",
        "phy_students = {\"Ravi\", \"Prerna\", \"Mahi\", \"Karan\"}\n",
        "\n",
        "# Remove a specific student from the math\n",
        "math_students.discard(\"Yash\")\n",
        "print(f\"Math students after removing Yash: {math_students}\")\n",
        "\n",
        "# Add a new student to the physics\n",
        "new_phy_student = \"Jiya\"\n",
        "phy_students.add(new_phy_student)\n",
        "print(f\"Physics students after adding Jiya: {phy_students}\")\n"
      ],
      "metadata": {
        "colab": {
          "base_uri": "https://localhost:8080/"
        },
        "id": "Rl0cNeVVoS6m",
        "outputId": "2fac241d-55b1-4139-a2b5-c09a6bf55f77"
      },
      "execution_count": 12,
      "outputs": [
        {
          "output_type": "stream",
          "name": "stdout",
          "text": [
            "Math students after removing Yash: {'Aman', 'Ravi', 'Mahi'}\n",
            "Physics students after adding Jiya: {'Prerna', 'Mahi', 'Ravi', 'Jiya', 'Karan'}\n"
          ]
        }
      ]
    }
  ]
}