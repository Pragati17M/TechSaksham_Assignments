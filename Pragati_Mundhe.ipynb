{
  "nbformat": 4,
  "nbformat_minor": 0,
  "metadata": {
    "colab": {
      "provenance": []
    },
    "kernelspec": {
      "name": "python3",
      "display_name": "Python 3"
    },
    "language_info": {
      "name": "python"
    }
  },
  "cells": [
    {
      "cell_type": "markdown",
      "source": [
        "1.\tFavorite Foods List:\n",
        "o\tCreate a list called favorite_foods containing three of your favorite foods.Print the second item from the list."
      ],
      "metadata": {
        "id": "oAeg6N0BaEQ5"
      }
    },
    {
      "cell_type": "code",
      "execution_count": 5,
      "metadata": {
        "colab": {
          "base_uri": "https://localhost:8080/"
        },
        "id": "Oa_g3NgOY1Qq",
        "outputId": "e875740e-6eae-4b9b-b99f-9f09472968bb"
      },
      "outputs": [
        {
          "output_type": "stream",
          "name": "stdout",
          "text": [
            "Chocolate\n"
          ]
        }
      ],
      "source": [
        "# Creating a list called favorite_foods\n",
        "favorite_foods = [\"Pizza\", \"Chocolate\", \"Burger\"]\n",
        "print(favorite_foods[1])\n"
      ]
    },
    {
      "cell_type": "markdown",
      "source": [
        "2.\tReversed Copy:\n",
        "o\tUse slicing to create a reversed copy of your favorite_foods list."
      ],
      "metadata": {
        "id": "2QjH39oZaOuo"
      }
    },
    {
      "cell_type": "code",
      "source": [
        "favorite_foods = [\"Pizza\", \"Chocolate\", \"Burger\"]\n",
        "reversed_favorite_foods = favorite_foods[::-1]\n",
        "print(reversed_favorite_foods)\n"
      ],
      "metadata": {
        "colab": {
          "base_uri": "https://localhost:8080/"
        },
        "id": "jgfCodEXZ0Hn",
        "outputId": "ce0accaf-9ff0-426b-9d70-e52ffe1bbfa6"
      },
      "execution_count": 6,
      "outputs": [
        {
          "output_type": "stream",
          "name": "stdout",
          "text": [
            "['Burger', 'Chocolate', 'Pizza']\n"
          ]
        }
      ]
    },
    {
      "cell_type": "markdown",
      "source": [
        "3.\tUppercase Transformation:\n",
        "o\tGiven the string \"my name is john\", convert it to uppercase."
      ],
      "metadata": {
        "id": "QJuaOcn1aQh_"
      }
    },
    {
      "cell_type": "code",
      "source": [
        "given_string = \"my name is john\"\n",
        "uppercase_string = given_string.upper()\n",
        "print(uppercase_string)\n"
      ],
      "metadata": {
        "colab": {
          "base_uri": "https://localhost:8080/"
        },
        "id": "0LX-Zvn2aX_F",
        "outputId": "2872b54e-c91c-419c-9315-f9b523a544f5"
      },
      "execution_count": 7,
      "outputs": [
        {
          "output_type": "stream",
          "name": "stdout",
          "text": [
            "MY NAME IS JOHN\n"
          ]
        }
      ]
    },
    {
      "cell_type": "markdown",
      "source": [
        "4.\tSecond Uppercase List:\n",
        "o\tCreate a new list called favorite_foods_upper using a list comprehension. It should contain the uppercase versions of your favorite foods."
      ],
      "metadata": {
        "id": "wj8MLAv2avVB"
      }
    },
    {
      "cell_type": "code",
      "source": [
        "favorite_foods = [\"Pizza\", \"Chocolate\", \"Burger\"]\n",
        "favorite_foods_upper = [food.upper() for food in favorite_foods]\n",
        "print(favorite_foods_upper)\n"
      ],
      "metadata": {
        "colab": {
          "base_uri": "https://localhost:8080/"
        },
        "id": "NW7gN4IbarR_",
        "outputId": "6e3077d2-7a44-47b7-dbfa-f4ebe06f4efe"
      },
      "execution_count": 8,
      "outputs": [
        {
          "output_type": "stream",
          "name": "stdout",
          "text": [
            "['PIZZA', 'CHOCOLATE', 'BURGER']\n"
          ]
        }
      ]
    },
    {
      "cell_type": "markdown",
      "source": [
        "5.\tList of Countries:\n",
        "o\tCreate a list called countries with the following countries: 'United States', 'Colombia', 'Japan', and 'Kenya'.\n",
        "o\tFind the index of 'Japan' in the list.\n",
        "o\tDetermine the total number of countries in the list."
      ],
      "metadata": {
        "id": "R66niiOpbE1r"
      }
    },
    {
      "cell_type": "code",
      "source": [
        "countries = ['United States', 'Colombia', 'Japan', 'Kenya']\n",
        "\n",
        "index_of_japan = countries.index('Japan')\n",
        "\n",
        "total_countries = len(countries)\n",
        "\n",
        "print(\"Index of 'Japan' in the list:\", index_of_japan)\n",
        "print(\"Total number of countries in the list:\", total_countries)\n"
      ],
      "metadata": {
        "colab": {
          "base_uri": "https://localhost:8080/"
        },
        "id": "8h2U2xSDbKZL",
        "outputId": "90bf701a-713d-4bc7-b595-a8d3ab69bbb0"
      },
      "execution_count": 9,
      "outputs": [
        {
          "output_type": "stream",
          "name": "stdout",
          "text": [
            "Index of 'Japan' in the list: 2\n",
            "Total number of countries in the list: 4\n"
          ]
        }
      ]
    }
  ]
}